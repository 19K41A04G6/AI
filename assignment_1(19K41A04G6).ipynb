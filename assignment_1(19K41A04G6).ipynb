{
  "nbformat": 4,
  "nbformat_minor": 0,
  "metadata": {
    "colab": {
      "name": "assignment-1(19K41A04G6).ipynb",
      "provenance": [],
      "collapsed_sections": [],
      "authorship_tag": "ABX9TyOOpOGFuSW3eqk/GSXO8fpO",
      "include_colab_link": true
    },
    "kernelspec": {
      "name": "python3",
      "display_name": "Python 3"
    },
    "language_info": {
      "name": "python"
    }
  },
  "cells": [
    {
      "cell_type": "markdown",
      "metadata": {
        "id": "view-in-github",
        "colab_type": "text"
      },
      "source": [
        "<a href=\"https://colab.research.google.com/github/19K41A04G6/AI/blob/main/assignment_1(19K41A04G6).ipynb\" target=\"_parent\"><img src=\"https://colab.research.google.com/assets/colab-badge.svg\" alt=\"Open In Colab\"/></a>"
      ]
    },
    {
      "cell_type": "code",
      "metadata": {
        "colab": {
          "base_uri": "https://localhost:8080/"
        },
        "id": "zF0pozJkjXur",
        "outputId": "817f6e1d-d01d-4003-c98c-0c58fc271c74"
      },
      "source": [
        "from scipy.optimize import linprog\n",
        "obj=[-50,-120]  #objective function matrix\n",
        "A_ieq=[[7000,2000],[10,30],[1,1]]\n",
        "b_ieq=[700000,1200,110]\n",
        "boundery=[(0,float('inf')),(0,float('inf'))]\n",
        "opt=linprog(c=obj,A_ub=A_ieq,b_ub=b_ieq,A_eq=None,b_eq=None,bounds=boundery,method=\"Simplex\")\n",
        "opt.x\n",
        "print('Area for growing wheat : ',round(opt.x[0]))\n",
        "print('Area for growing Barley : ',round(opt.x[1]))"
      ],
      "execution_count": 1,
      "outputs": [
        {
          "output_type": "stream",
          "text": [
            "Area for growing wheat :  98\n",
            "Area for growing Barley :  7\n"
          ],
          "name": "stdout"
        }
      ]
    }
  ]
}